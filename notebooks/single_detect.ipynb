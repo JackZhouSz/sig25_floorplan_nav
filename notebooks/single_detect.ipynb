{
 "cells": [
  {
   "cell_type": "code",
   "execution_count": null,
   "metadata": {},
   "outputs": [],
   "source": [
    "import mediapy as media\n",
    "import cv2\n",
    "import numpy as np"
   ]
  },
  {
   "cell_type": "code",
   "execution_count": null,
   "id": "32227492",
   "metadata": {},
   "outputs": [],
   "source": [
    "large_map = cv2.imread(\"../large_map.png\")\n",
    "large_map.shape"
   ]
  },
  {
   "cell_type": "code",
   "execution_count": null,
   "id": "56da2201",
   "metadata": {},
   "outputs": [],
   "source": [
    "video_capture = cv2.VideoCapture(r\"D:\\Vid\\2025-07-17 23-29-11.mp4\")\n",
    "success, frame = video_capture.read()\n",
    "frames = []\n",
    "while success:\n",
    "    frames.append(frame)\n",
    "    success, frame = video_capture.read()\n"
   ]
  },
  {
   "cell_type": "code",
   "execution_count": null,
   "id": "635a626d",
   "metadata": {},
   "outputs": [],
   "source": [
    "frames = np.stack(frames[::5]).astype(np.float32).mean(axis=-1)/255"
   ]
  },
  {
   "cell_type": "code",
   "execution_count": null,
   "id": "71dd9381",
   "metadata": {},
   "outputs": [],
   "source": [
    "orig = frames[0]\n",
    "media.write_image('frame.png', orig)"
   ]
  },
  {
   "cell_type": "code",
   "execution_count": null,
   "id": "a1a70e64",
   "metadata": {},
   "outputs": [],
   "source": [
    "diff = np.abs(frames-orig[None]).mean(-1).mean(-1)"
   ]
  },
  {
   "cell_type": "code",
   "execution_count": null,
   "id": "974b9723",
   "metadata": {},
   "outputs": [],
   "source": [
    "frames = frames[diff>0]"
   ]
  },
  {
   "cell_type": "code",
   "execution_count": null,
   "id": "f2ddcfc4",
   "metadata": {},
   "outputs": [],
   "source": [
    "diff = np.abs(frames-orig[None])"
   ]
  },
  {
   "cell_type": "code",
   "execution_count": null,
   "id": "ae1aab37",
   "metadata": {},
   "outputs": [],
   "source": [
    "media.show_video((diff*255).astype(np.uint8), fps=15, width=512)"
   ]
  },
  {
   "cell_type": "code",
   "execution_count": null,
   "id": "b5fb0682",
   "metadata": {},
   "outputs": [],
   "source": [
    "media.show_video((frames*255).astype(np.uint8), fps=60, width=512)"
   ]
  },
  {
   "cell_type": "code",
   "execution_count": null,
   "id": "ac5b9cf3",
   "metadata": {},
   "outputs": [],
   "source": []
  },
  {
   "cell_type": "code",
   "execution_count": null,
   "id": "a2163eff",
   "metadata": {},
   "outputs": [],
   "source": [
    "import cv2\n",
    "import numpy as np\n",
    "size_threshold = 45\n",
    "bboxs = []\n",
    "frame_show = cv2.cvtColor((orig*255).astype(np.uint8), cv2.COLOR_GRAY2BGR)\n",
    "for idx in range(len(frames)):\n",
    "    diff = np.abs(frames[idx]-orig)\n",
    "    kernel = np.ones((7, 7), np.uint8)\n",
    "    thresh = (diff > 0.1).astype(np.uint8) * 255\n",
    "    eroded = cv2.erode(thresh, kernel, iterations=1)\n",
    "    x, y, w, h = cv2.boundingRect(eroded)\n",
    "    if w < size_threshold or h < size_threshold:\n",
    "        continue\n",
    "    \n",
    "    contours, _ = cv2.findContours(eroded, cv2.RETR_EXTERNAL, cv2.CHAIN_APPROX_SIMPLE)\n",
    "    for cnt in contours:\n",
    "        x, y, w, h = cv2.boundingRect(cnt)\n",
    "        if w >= size_threshold and h >= size_threshold:\n",
    "            bboxs.append([x, y, w, h])\n",
    "            # print(x, y, w, h)\n",
    "            # media.show_images([thresh[y:y+h, x:x+w], eroded[y:y+h, x:x+w], frames[idx][y:y+h, x:x+w]], width=128)\n",
    "            cv2.rectangle(frame_show, (x, y), (x+w, y+h), (0, 255, 0), 2)\n",
    "\n",
    "print(len(bboxs))\n",
    "media.show_image(frame_show, width=700)"
   ]
  },
  {
   "cell_type": "code",
   "execution_count": null,
   "id": "c91df8f6",
   "metadata": {},
   "outputs": [],
   "source": [
    "# size_threshold = np.percentile(np.array(bboxs)[:, -2:].flatten(), 5)\n",
    "# bboxs = [b for b in bboxs if min(b[2], b[3]) >= size_threshold]"
   ]
  },
  {
   "cell_type": "code",
   "execution_count": null,
   "id": "b30191bd",
   "metadata": {},
   "outputs": [],
   "source": [
    "def iou(box1, box2):\n",
    "    # box: [x, y, w, h]\n",
    "    x1, y1, w1, h1 = box1\n",
    "    x2, y2, w2, h2 = box2\n",
    "    xi1 = max(x1, x2)\n",
    "    yi1 = max(y1, y2)\n",
    "    xi2 = min(x1 + w1, x2 + w2)\n",
    "    yi2 = min(y1 + h1, y2 + h2)\n",
    "    inter_w = max(0, xi2 - xi1)\n",
    "    inter_h = max(0, yi2 - yi1)\n",
    "    inter_area = inter_w * inter_h\n",
    "    area1 = w1 * h1\n",
    "    area2 = w2 * h2\n",
    "    union_area = area1 + area2 - inter_area\n",
    "    if union_area == 0:\n",
    "        return 0\n",
    "    return inter_area / union_area\n",
    "\n",
    "dedup_bboxs = []\n",
    "used = [False] * len(bboxs)\n",
    "for i in range(len(bboxs)):\n",
    "    if used[i]:\n",
    "        continue\n",
    "    box1 = bboxs[i]\n",
    "    dedup_bboxs.append(box1)\n",
    "    for j in range(i+1, len(bboxs)):\n",
    "        if used[j]:\n",
    "            continue\n",
    "        box2 = bboxs[j]\n",
    "        if iou(box1, box2) > 0.5:\n",
    "            used[j] = True\n",
    "\n",
    "import random\n",
    "\n",
    "frame_show = cv2.cvtColor((orig*255).astype(np.uint8), cv2.COLOR_GRAY2BGR)\n",
    "for box in dedup_bboxs:\n",
    "    x, y, w, h = box\n",
    "    # 隨機產生顏色\n",
    "    color = (random.randint(0,255), random.randint(0,255), random.randint(0,255))\n",
    "    cv2.rectangle(frame_show, (x, y), (x+w, y+h), color, 2)\n",
    "    \n",
    "print(f\"去重後的bbox數量: {len(dedup_bboxs)}\")\n",
    "media.show_image(frame_show, width=1000)\n",
    "\n"
   ]
  },
  {
   "cell_type": "code",
   "execution_count": null,
   "id": "8342476e",
   "metadata": {},
   "outputs": [],
   "source": [
    "import numpy as np\n",
    "\n",
    "\n",
    "def apply_transform(bboxes_small, bbox_big, target_idx=0):\n",
    "    \"\"\"把小圖裡的一批 BBox 轉成大圖座標\"\"\"\n",
    "    bboxes_small = np.array(bboxes_small, dtype=float)\n",
    "    bbox_big = np.array(list(bbox_big), dtype=float).reshape(1, -1)\n",
    "    \n",
    "    bboxes_small[:, :2] = bboxes_small[:, :2] - bboxes_small[[target_idx], :2]\n",
    "    scale = bbox_big[:, -2:] / bboxes_small[[target_idx], -2:]\n",
    "    bboxes_small[:, :2] *= scale\n",
    "    bboxes_small[:, 2:] *= scale\n",
    "    bboxes_small[:, :2] = bboxes_small[:, :2] + bbox_big[[0], :2]\n",
    "    bboxes_small_ = np.round(bboxes_small).astype(int)\n",
    "    print((bboxes_small_-bboxes_small).max())\n",
    "    print(bboxes_small[target_idx], bbox_big[0])\n",
    "    return bboxes_small_"
   ]
  },
  {
   "cell_type": "code",
   "execution_count": null,
   "id": "1259aa55",
   "metadata": {},
   "outputs": [],
   "source": [
    "anchor_idx = 22\n",
    "anchor_large = (5475, 5937, 185, 185)\n",
    "# shifted_bboxs = apply_transform(dedup_bboxs,  anchor_large, anchor_idx)\n",
    "# shifted_bboxs[:3]"
   ]
  },
  {
   "cell_type": "code",
   "execution_count": null,
   "id": "235380fe",
   "metadata": {},
   "outputs": [],
   "source": [
    "# 以 bbox[0] 當作一個 grid unit (正方形)，推算其他 bbox 的 bbox 表示（以 unit 為基準）\n",
    "unit_x, unit_y, unit_w, unit_h = dedup_bboxs[anchor_idx]\n",
    "unit = 45\n",
    "bbox_units = []\n",
    "for box in dedup_bboxs:\n",
    "    x, y, w, h = box\n",
    "    gx = (x - unit_x) / unit\n",
    "    gy = (y - unit_y) / unit\n",
    "    gw = w / unit\n",
    "    gh = h / unit\n",
    "    bbox_units.append([gx, gy, gw, gh])\n",
    "bbox_units = np.array(bbox_units)\n",
    "bbox_units_raw = bbox_units.round(decimals=2)\n",
    "bbox_units = np.round(np.array(bbox_units)).astype(int)\n",
    "# print(bbox_units)"
   ]
  },
  {
   "cell_type": "code",
   "execution_count": null,
   "id": "4ea5f8b7",
   "metadata": {},
   "outputs": [],
   "source": [
    "dedup_bboxs[anchor_idx], anchor_large"
   ]
  },
  {
   "cell_type": "code",
   "execution_count": null,
   "id": "a7f192ac",
   "metadata": {},
   "outputs": [],
   "source": [
    "box_origin = list(anchor_large)\n",
    "box_origin[2] //= 2\n",
    "box_origin[3] //= 2\n",
    "box_origin[2] += 1\n",
    "box_origin[3] += 1\n",
    "box_origin"
   ]
  },
  {
   "cell_type": "code",
   "execution_count": null,
   "id": "e5980b7f",
   "metadata": {},
   "outputs": [],
   "source": [
    "# 根據 dedup_bboxs 裡的 bbox，將 orig 影像裁切出來，存成 crops\n",
    "crops = []\n",
    "shifted_bboxs = []\n",
    "# for box in dedup_bboxs:\n",
    "for box in bbox_units:\n",
    "    x, y, w, h = [i for i in box]\n",
    "    \n",
    "    # crop = orig[y:y+h, x:x+w]\n",
    "    \n",
    "    x = box_origin[0] + box_origin[2] * x\n",
    "    y = box_origin[1] + box_origin[2] * y\n",
    "    w *= box_origin[2]\n",
    "    h *= box_origin[2]\n",
    "    shifted_bboxs.append([x, y, w, h])\n",
    "    crop = large_map[y:y+h, x:x+w]\n",
    "    \n",
    "    crops.append(crop)\n",
    "media.show_images(crops, width=128, columns=8, border=True, titles=[f\"{i}: {b}\" for i, b in enumerate(bbox_units_raw)])\n"
   ]
  },
  {
   "cell_type": "code",
   "execution_count": null,
   "id": "e7771843",
   "metadata": {},
   "outputs": [],
   "source": [
    "data = [\n",
    "    {\n",
    "        'name': \"\",\n",
    "        'id': -1,\n",
    "        'type': 'booth',\n",
    "        'bbox': np.array(bbox).tolist(),\n",
    "        'unit': np.array(unit).tolist(),\n",
    "    }\n",
    "    for bbox, unit in zip(shifted_bboxs, bbox_units)\n",
    "]\n"
   ]
  },
  {
   "cell_type": "code",
   "execution_count": null,
   "id": "73a78310",
   "metadata": {},
   "outputs": [],
   "source": [
    "import json\n",
    "with open('../data/bboxes_2.json', 'w') as f:\n",
    "    json.dump(data, f, indent=4)"
   ]
  }
 ],
 "metadata": {
  "kernelspec": {
   "display_name": "base",
   "language": "python",
   "name": "python3"
  },
  "language_info": {
   "codemirror_mode": {
    "name": "ipython",
    "version": 3
   },
   "file_extension": ".py",
   "mimetype": "text/x-python",
   "name": "python",
   "nbconvert_exporter": "python",
   "pygments_lexer": "ipython3",
   "version": "3.11.4"
  }
 },
 "nbformat": 4,
 "nbformat_minor": 5
}
